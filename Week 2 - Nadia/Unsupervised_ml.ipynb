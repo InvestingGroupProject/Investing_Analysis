{
 "cells": [
  {
   "cell_type": "code",
   "execution_count": 1,
   "id": "230e227d",
   "metadata": {},
   "outputs": [],
   "source": [
    "import pandas as pd\n",
    "from pathlib import Path\n",
    "import matplotlib.pyplot as plt\n",
    "from sklearn.linear_model import LinearRegression\n",
    "import numpy as np"
   ]
  },
  {
   "cell_type": "code",
   "execution_count": 2,
   "id": "5946e56e",
   "metadata": {},
   "outputs": [
    {
     "data": {
      "text/html": [
       "<div>\n",
       "<style scoped>\n",
       "    .dataframe tbody tr th:only-of-type {\n",
       "        vertical-align: middle;\n",
       "    }\n",
       "\n",
       "    .dataframe tbody tr th {\n",
       "        vertical-align: top;\n",
       "    }\n",
       "\n",
       "    .dataframe thead th {\n",
       "        text-align: right;\n",
       "    }\n",
       "</style>\n",
       "<table border=\"1\" class=\"dataframe\">\n",
       "  <thead>\n",
       "    <tr style=\"text-align: right;\">\n",
       "      <th></th>\n",
       "      <th>Date</th>\n",
       "      <th>TX</th>\n",
       "      <th>NY</th>\n",
       "      <th>FL</th>\n",
       "      <th>CO</th>\n",
       "      <th>CA</th>\n",
       "      <th>Gasoline_stock_price</th>\n",
       "      <th>GSPC_Open</th>\n",
       "      <th>GSPC_High</th>\n",
       "      <th>GSPC_Low</th>\n",
       "      <th>GSPC_Close</th>\n",
       "      <th>GSPC_Volume</th>\n",
       "      <th>GSPC_Adjusted</th>\n",
       "      <th>Gas_Price</th>\n",
       "    </tr>\n",
       "  </thead>\n",
       "  <tbody>\n",
       "    <tr>\n",
       "      <th>0</th>\n",
       "      <td>8/15/2022</td>\n",
       "      <td>3.476</td>\n",
       "      <td>4.273</td>\n",
       "      <td>3.661</td>\n",
       "      <td>4.031</td>\n",
       "      <td>5.218</td>\n",
       "      <td>NaN</td>\n",
       "      <td>NaN</td>\n",
       "      <td>NaN</td>\n",
       "      <td>NaN</td>\n",
       "      <td>NaN</td>\n",
       "      <td>NaN</td>\n",
       "      <td>NaN</td>\n",
       "      <td>NaN</td>\n",
       "    </tr>\n",
       "    <tr>\n",
       "      <th>1</th>\n",
       "      <td>8/8/2022</td>\n",
       "      <td>3.583</td>\n",
       "      <td>4.360</td>\n",
       "      <td>3.787</td>\n",
       "      <td>4.219</td>\n",
       "      <td>5.298</td>\n",
       "      <td>215674.0</td>\n",
       "      <td>4155.93</td>\n",
       "      <td>4186.62</td>\n",
       "      <td>4128.97</td>\n",
       "      <td>4140.06</td>\n",
       "      <td>3.604650e+09</td>\n",
       "      <td>4140.06</td>\n",
       "      <td>4.038</td>\n",
       "    </tr>\n",
       "    <tr>\n",
       "      <th>2</th>\n",
       "      <td>8/1/2022</td>\n",
       "      <td>3.735</td>\n",
       "      <td>4.460</td>\n",
       "      <td>3.965</td>\n",
       "      <td>4.454</td>\n",
       "      <td>5.472</td>\n",
       "      <td>220316.0</td>\n",
       "      <td>4112.38</td>\n",
       "      <td>4144.95</td>\n",
       "      <td>4096.02</td>\n",
       "      <td>4118.63</td>\n",
       "      <td>3.540960e+09</td>\n",
       "      <td>4118.63</td>\n",
       "      <td>4.192</td>\n",
       "    </tr>\n",
       "    <tr>\n",
       "      <th>3</th>\n",
       "      <td>7/25/2022</td>\n",
       "      <td>3.871</td>\n",
       "      <td>4.543</td>\n",
       "      <td>4.120</td>\n",
       "      <td>4.677</td>\n",
       "      <td>5.573</td>\n",
       "      <td>225294.0</td>\n",
       "      <td>3965.72</td>\n",
       "      <td>3975.30</td>\n",
       "      <td>3943.46</td>\n",
       "      <td>3966.84</td>\n",
       "      <td>2.988650e+09</td>\n",
       "      <td>3966.84</td>\n",
       "      <td>4.330</td>\n",
       "    </tr>\n",
       "    <tr>\n",
       "      <th>4</th>\n",
       "      <td>7/18/2022</td>\n",
       "      <td>4.038</td>\n",
       "      <td>4.639</td>\n",
       "      <td>4.283</td>\n",
       "      <td>4.874</td>\n",
       "      <td>5.708</td>\n",
       "      <td>225131.0</td>\n",
       "      <td>3883.79</td>\n",
       "      <td>3902.44</td>\n",
       "      <td>3818.63</td>\n",
       "      <td>3830.85</td>\n",
       "      <td>3.414470e+09</td>\n",
       "      <td>3830.85</td>\n",
       "      <td>4.490</td>\n",
       "    </tr>\n",
       "  </tbody>\n",
       "</table>\n",
       "</div>"
      ],
      "text/plain": [
       "        Date     TX     NY     FL     CO     CA  Gasoline_stock_price  \\\n",
       "0  8/15/2022  3.476  4.273  3.661  4.031  5.218                   NaN   \n",
       "1   8/8/2022  3.583  4.360  3.787  4.219  5.298              215674.0   \n",
       "2   8/1/2022  3.735  4.460  3.965  4.454  5.472              220316.0   \n",
       "3  7/25/2022  3.871  4.543  4.120  4.677  5.573              225294.0   \n",
       "4  7/18/2022  4.038  4.639  4.283  4.874  5.708              225131.0   \n",
       "\n",
       "   GSPC_Open  GSPC_High  GSPC_Low  GSPC_Close   GSPC_Volume  GSPC_Adjusted  \\\n",
       "0        NaN        NaN       NaN         NaN           NaN            NaN   \n",
       "1    4155.93    4186.62   4128.97     4140.06  3.604650e+09        4140.06   \n",
       "2    4112.38    4144.95   4096.02     4118.63  3.540960e+09        4118.63   \n",
       "3    3965.72    3975.30   3943.46     3966.84  2.988650e+09        3966.84   \n",
       "4    3883.79    3902.44   3818.63     3830.85  3.414470e+09        3830.85   \n",
       "\n",
       "   Gas_Price  \n",
       "0        NaN  \n",
       "1      4.038  \n",
       "2      4.192  \n",
       "3      4.330  \n",
       "4      4.490  "
      ]
     },
     "execution_count": 2,
     "metadata": {},
     "output_type": "execute_result"
    }
   ],
   "source": [
    "data = Path(r\"C:\\Users\\lmeji\\Desktop\\Project_branch\\Investing_Analysis\\Resources\\Gas price by Region.csv\")\n",
    "data_df = pd.read_csv(data)\n",
    "data_df.head()"
   ]
  },
  {
   "cell_type": "code",
   "execution_count": 3,
   "id": "a45c1505",
   "metadata": {},
   "outputs": [
    {
     "name": "stdout",
     "output_type": "stream",
     "text": [
      "(1159, 14)\n"
     ]
    }
   ],
   "source": [
    "print(data_df.shape)"
   ]
  },
  {
   "cell_type": "code",
   "execution_count": 4,
   "id": "629f0358",
   "metadata": {},
   "outputs": [
    {
     "data": {
      "text/plain": [
       "Date                     object\n",
       "TX                      float64\n",
       "NY                      float64\n",
       "FL                      float64\n",
       "CO                      float64\n",
       "CA                      float64\n",
       "Gasoline_stock_price    float64\n",
       "GSPC_Open               float64\n",
       "GSPC_High               float64\n",
       "GSPC_Low                float64\n",
       "GSPC_Close              float64\n",
       "GSPC_Volume             float64\n",
       "GSPC_Adjusted           float64\n",
       "Gas_Price               float64\n",
       "dtype: object"
      ]
     },
     "execution_count": 4,
     "metadata": {},
     "output_type": "execute_result"
    }
   ],
   "source": [
    "data_df.dtypes"
   ]
  },
  {
   "cell_type": "code",
   "execution_count": 5,
   "id": "7a710cb5",
   "metadata": {},
   "outputs": [
    {
     "name": "stdout",
     "output_type": "stream",
     "text": [
      "(907, 14)\n"
     ]
    },
    {
     "data": {
      "text/html": [
       "<div>\n",
       "<style scoped>\n",
       "    .dataframe tbody tr th:only-of-type {\n",
       "        vertical-align: middle;\n",
       "    }\n",
       "\n",
       "    .dataframe tbody tr th {\n",
       "        vertical-align: top;\n",
       "    }\n",
       "\n",
       "    .dataframe thead th {\n",
       "        text-align: right;\n",
       "    }\n",
       "</style>\n",
       "<table border=\"1\" class=\"dataframe\">\n",
       "  <thead>\n",
       "    <tr style=\"text-align: right;\">\n",
       "      <th></th>\n",
       "      <th>Date</th>\n",
       "      <th>TX</th>\n",
       "      <th>NY</th>\n",
       "      <th>FL</th>\n",
       "      <th>CO</th>\n",
       "      <th>CA</th>\n",
       "      <th>Gasoline_stock_price</th>\n",
       "      <th>GSPC_Open</th>\n",
       "      <th>GSPC_High</th>\n",
       "      <th>GSPC_Low</th>\n",
       "      <th>GSPC_Close</th>\n",
       "      <th>GSPC_Volume</th>\n",
       "      <th>GSPC_Adjusted</th>\n",
       "      <th>Gas_Price</th>\n",
       "    </tr>\n",
       "  </thead>\n",
       "  <tbody>\n",
       "    <tr>\n",
       "      <th>1</th>\n",
       "      <td>8/8/2022</td>\n",
       "      <td>3.583</td>\n",
       "      <td>4.360</td>\n",
       "      <td>3.787</td>\n",
       "      <td>4.219</td>\n",
       "      <td>5.298</td>\n",
       "      <td>215674.0</td>\n",
       "      <td>4155.93</td>\n",
       "      <td>4186.62</td>\n",
       "      <td>4128.97</td>\n",
       "      <td>4140.06</td>\n",
       "      <td>3.604650e+09</td>\n",
       "      <td>4140.06</td>\n",
       "      <td>4.038</td>\n",
       "    </tr>\n",
       "    <tr>\n",
       "      <th>2</th>\n",
       "      <td>8/1/2022</td>\n",
       "      <td>3.735</td>\n",
       "      <td>4.460</td>\n",
       "      <td>3.965</td>\n",
       "      <td>4.454</td>\n",
       "      <td>5.472</td>\n",
       "      <td>220316.0</td>\n",
       "      <td>4112.38</td>\n",
       "      <td>4144.95</td>\n",
       "      <td>4096.02</td>\n",
       "      <td>4118.63</td>\n",
       "      <td>3.540960e+09</td>\n",
       "      <td>4118.63</td>\n",
       "      <td>4.192</td>\n",
       "    </tr>\n",
       "    <tr>\n",
       "      <th>3</th>\n",
       "      <td>7/25/2022</td>\n",
       "      <td>3.871</td>\n",
       "      <td>4.543</td>\n",
       "      <td>4.120</td>\n",
       "      <td>4.677</td>\n",
       "      <td>5.573</td>\n",
       "      <td>225294.0</td>\n",
       "      <td>3965.72</td>\n",
       "      <td>3975.30</td>\n",
       "      <td>3943.46</td>\n",
       "      <td>3966.84</td>\n",
       "      <td>2.988650e+09</td>\n",
       "      <td>3966.84</td>\n",
       "      <td>4.330</td>\n",
       "    </tr>\n",
       "    <tr>\n",
       "      <th>4</th>\n",
       "      <td>7/18/2022</td>\n",
       "      <td>4.038</td>\n",
       "      <td>4.639</td>\n",
       "      <td>4.283</td>\n",
       "      <td>4.874</td>\n",
       "      <td>5.708</td>\n",
       "      <td>225131.0</td>\n",
       "      <td>3883.79</td>\n",
       "      <td>3902.44</td>\n",
       "      <td>3818.63</td>\n",
       "      <td>3830.85</td>\n",
       "      <td>3.414470e+09</td>\n",
       "      <td>3830.85</td>\n",
       "      <td>4.490</td>\n",
       "    </tr>\n",
       "    <tr>\n",
       "      <th>5</th>\n",
       "      <td>7/11/2022</td>\n",
       "      <td>4.250</td>\n",
       "      <td>4.743</td>\n",
       "      <td>4.421</td>\n",
       "      <td>4.959</td>\n",
       "      <td>5.903</td>\n",
       "      <td>228435.0</td>\n",
       "      <td>3880.94</td>\n",
       "      <td>3880.94</td>\n",
       "      <td>3847.22</td>\n",
       "      <td>3854.43</td>\n",
       "      <td>3.023830e+09</td>\n",
       "      <td>3854.43</td>\n",
       "      <td>4.646</td>\n",
       "    </tr>\n",
       "  </tbody>\n",
       "</table>\n",
       "</div>"
      ],
      "text/plain": [
       "        Date     TX     NY     FL     CO     CA  Gasoline_stock_price  \\\n",
       "1   8/8/2022  3.583  4.360  3.787  4.219  5.298              215674.0   \n",
       "2   8/1/2022  3.735  4.460  3.965  4.454  5.472              220316.0   \n",
       "3  7/25/2022  3.871  4.543  4.120  4.677  5.573              225294.0   \n",
       "4  7/18/2022  4.038  4.639  4.283  4.874  5.708              225131.0   \n",
       "5  7/11/2022  4.250  4.743  4.421  4.959  5.903              228435.0   \n",
       "\n",
       "   GSPC_Open  GSPC_High  GSPC_Low  GSPC_Close   GSPC_Volume  GSPC_Adjusted  \\\n",
       "1    4155.93    4186.62   4128.97     4140.06  3.604650e+09        4140.06   \n",
       "2    4112.38    4144.95   4096.02     4118.63  3.540960e+09        4118.63   \n",
       "3    3965.72    3975.30   3943.46     3966.84  2.988650e+09        3966.84   \n",
       "4    3883.79    3902.44   3818.63     3830.85  3.414470e+09        3830.85   \n",
       "5    3880.94    3880.94   3847.22     3854.43  3.023830e+09        3854.43   \n",
       "\n",
       "   Gas_Price  \n",
       "1      4.038  \n",
       "2      4.192  \n",
       "3      4.330  \n",
       "4      4.490  \n",
       "5      4.646  "
      ]
     },
     "execution_count": 5,
     "metadata": {},
     "output_type": "execute_result"
    }
   ],
   "source": [
    "#Remove rows that have at least 1 null value.\n",
    "\n",
    "new_data = data_df.dropna()\n",
    "\n",
    "#Check the dataset shape and head to make sure the nulls were removed\n",
    "\n",
    "print(new_data.shape)\n",
    "\n",
    "new_data.head()"
   ]
  },
  {
   "cell_type": "code",
   "execution_count": 23,
   "id": "d0f60cec",
   "metadata": {},
   "outputs": [
    {
     "data": {
      "text/html": [
       "<div>\n",
       "<style scoped>\n",
       "    .dataframe tbody tr th:only-of-type {\n",
       "        vertical-align: middle;\n",
       "    }\n",
       "\n",
       "    .dataframe tbody tr th {\n",
       "        vertical-align: top;\n",
       "    }\n",
       "\n",
       "    .dataframe thead th {\n",
       "        text-align: right;\n",
       "    }\n",
       "</style>\n",
       "<table border=\"1\" class=\"dataframe\">\n",
       "  <thead>\n",
       "    <tr style=\"text-align: right;\">\n",
       "      <th></th>\n",
       "      <th>Date</th>\n",
       "      <th>TX</th>\n",
       "      <th>NY</th>\n",
       "      <th>FL</th>\n",
       "      <th>CO</th>\n",
       "      <th>CA</th>\n",
       "      <th>Gasoline_stock_price</th>\n",
       "      <th>GSPC_Open</th>\n",
       "      <th>GSPC_High</th>\n",
       "      <th>GSPC_Low</th>\n",
       "      <th>GSPC_Close</th>\n",
       "      <th>GSPC_Volume</th>\n",
       "      <th>GSPC_Adjusted</th>\n",
       "      <th>Gas_Price</th>\n",
       "    </tr>\n",
       "  </thead>\n",
       "  <tbody>\n",
       "    <tr>\n",
       "      <th>1</th>\n",
       "      <td>8/8/2022</td>\n",
       "      <td>3.583</td>\n",
       "      <td>4.360</td>\n",
       "      <td>3.787</td>\n",
       "      <td>4.219</td>\n",
       "      <td>5.298</td>\n",
       "      <td>215674.0</td>\n",
       "      <td>4155.93</td>\n",
       "      <td>4186.62</td>\n",
       "      <td>4128.97</td>\n",
       "      <td>4140.06</td>\n",
       "      <td>3.604650e+09</td>\n",
       "      <td>4140.06</td>\n",
       "      <td>4.038</td>\n",
       "    </tr>\n",
       "    <tr>\n",
       "      <th>2</th>\n",
       "      <td>8/1/2022</td>\n",
       "      <td>3.735</td>\n",
       "      <td>4.460</td>\n",
       "      <td>3.965</td>\n",
       "      <td>4.454</td>\n",
       "      <td>5.472</td>\n",
       "      <td>220316.0</td>\n",
       "      <td>4112.38</td>\n",
       "      <td>4144.95</td>\n",
       "      <td>4096.02</td>\n",
       "      <td>4118.63</td>\n",
       "      <td>3.540960e+09</td>\n",
       "      <td>4118.63</td>\n",
       "      <td>4.192</td>\n",
       "    </tr>\n",
       "    <tr>\n",
       "      <th>3</th>\n",
       "      <td>7/25/2022</td>\n",
       "      <td>3.871</td>\n",
       "      <td>4.543</td>\n",
       "      <td>4.120</td>\n",
       "      <td>4.677</td>\n",
       "      <td>5.573</td>\n",
       "      <td>225294.0</td>\n",
       "      <td>3965.72</td>\n",
       "      <td>3975.30</td>\n",
       "      <td>3943.46</td>\n",
       "      <td>3966.84</td>\n",
       "      <td>2.988650e+09</td>\n",
       "      <td>3966.84</td>\n",
       "      <td>4.330</td>\n",
       "    </tr>\n",
       "    <tr>\n",
       "      <th>4</th>\n",
       "      <td>7/18/2022</td>\n",
       "      <td>4.038</td>\n",
       "      <td>4.639</td>\n",
       "      <td>4.283</td>\n",
       "      <td>4.874</td>\n",
       "      <td>5.708</td>\n",
       "      <td>225131.0</td>\n",
       "      <td>3883.79</td>\n",
       "      <td>3902.44</td>\n",
       "      <td>3818.63</td>\n",
       "      <td>3830.85</td>\n",
       "      <td>3.414470e+09</td>\n",
       "      <td>3830.85</td>\n",
       "      <td>4.490</td>\n",
       "    </tr>\n",
       "    <tr>\n",
       "      <th>5</th>\n",
       "      <td>7/11/2022</td>\n",
       "      <td>4.250</td>\n",
       "      <td>4.743</td>\n",
       "      <td>4.421</td>\n",
       "      <td>4.959</td>\n",
       "      <td>5.903</td>\n",
       "      <td>228435.0</td>\n",
       "      <td>3880.94</td>\n",
       "      <td>3880.94</td>\n",
       "      <td>3847.22</td>\n",
       "      <td>3854.43</td>\n",
       "      <td>3.023830e+09</td>\n",
       "      <td>3854.43</td>\n",
       "      <td>4.646</td>\n",
       "    </tr>\n",
       "    <tr>\n",
       "      <th>7</th>\n",
       "      <td>6/27/2022</td>\n",
       "      <td>4.600</td>\n",
       "      <td>4.932</td>\n",
       "      <td>4.667</td>\n",
       "      <td>5.000</td>\n",
       "      <td>6.138</td>\n",
       "      <td>219112.0</td>\n",
       "      <td>3920.76</td>\n",
       "      <td>3927.72</td>\n",
       "      <td>3889.66</td>\n",
       "      <td>3900.11</td>\n",
       "      <td>3.385120e+09</td>\n",
       "      <td>3900.11</td>\n",
       "      <td>4.872</td>\n",
       "    </tr>\n",
       "    <tr>\n",
       "      <th>9</th>\n",
       "      <td>6/13/2022</td>\n",
       "      <td>4.720</td>\n",
       "      <td>5.032</td>\n",
       "      <td>4.937</td>\n",
       "      <td>4.979</td>\n",
       "      <td>6.271</td>\n",
       "      <td>218963.0</td>\n",
       "      <td>3838.15</td>\n",
       "      <td>3838.15</td>\n",
       "      <td>3734.30</td>\n",
       "      <td>3749.63</td>\n",
       "      <td>4.572820e+09</td>\n",
       "      <td>3749.63</td>\n",
       "      <td>5.006</td>\n",
       "    </tr>\n",
       "    <tr>\n",
       "      <th>10</th>\n",
       "      <td>6/6/2022</td>\n",
       "      <td>4.640</td>\n",
       "      <td>4.865</td>\n",
       "      <td>4.807</td>\n",
       "      <td>4.723</td>\n",
       "      <td>6.178</td>\n",
       "      <td>217474.0</td>\n",
       "      <td>4134.72</td>\n",
       "      <td>4168.78</td>\n",
       "      <td>4109.18</td>\n",
       "      <td>4121.43</td>\n",
       "      <td>3.852050e+09</td>\n",
       "      <td>4121.43</td>\n",
       "      <td>4.876</td>\n",
       "    </tr>\n",
       "    <tr>\n",
       "      <th>12</th>\n",
       "      <td>5/23/2022</td>\n",
       "      <td>4.342</td>\n",
       "      <td>4.935</td>\n",
       "      <td>4.518</td>\n",
       "      <td>4.218</td>\n",
       "      <td>5.904</td>\n",
       "      <td>218996.0</td>\n",
       "      <td>3919.42</td>\n",
       "      <td>3981.88</td>\n",
       "      <td>3909.04</td>\n",
       "      <td>3973.75</td>\n",
       "      <td>3.392770e+09</td>\n",
       "      <td>3973.75</td>\n",
       "      <td>4.593</td>\n",
       "    </tr>\n",
       "    <tr>\n",
       "      <th>13</th>\n",
       "      <td>5/16/2022</td>\n",
       "      <td>4.213</td>\n",
       "      <td>4.821</td>\n",
       "      <td>4.542</td>\n",
       "      <td>4.204</td>\n",
       "      <td>5.793</td>\n",
       "      <td>219707.0</td>\n",
       "      <td>4013.02</td>\n",
       "      <td>4046.46</td>\n",
       "      <td>3983.99</td>\n",
       "      <td>4008.01</td>\n",
       "      <td>3.824320e+09</td>\n",
       "      <td>4008.01</td>\n",
       "      <td>4.491</td>\n",
       "    </tr>\n",
       "  </tbody>\n",
       "</table>\n",
       "</div>"
      ],
      "text/plain": [
       "         Date     TX     NY     FL     CO     CA  Gasoline_stock_price  \\\n",
       "1    8/8/2022  3.583  4.360  3.787  4.219  5.298              215674.0   \n",
       "2    8/1/2022  3.735  4.460  3.965  4.454  5.472              220316.0   \n",
       "3   7/25/2022  3.871  4.543  4.120  4.677  5.573              225294.0   \n",
       "4   7/18/2022  4.038  4.639  4.283  4.874  5.708              225131.0   \n",
       "5   7/11/2022  4.250  4.743  4.421  4.959  5.903              228435.0   \n",
       "7   6/27/2022  4.600  4.932  4.667  5.000  6.138              219112.0   \n",
       "9   6/13/2022  4.720  5.032  4.937  4.979  6.271              218963.0   \n",
       "10   6/6/2022  4.640  4.865  4.807  4.723  6.178              217474.0   \n",
       "12  5/23/2022  4.342  4.935  4.518  4.218  5.904              218996.0   \n",
       "13  5/16/2022  4.213  4.821  4.542  4.204  5.793              219707.0   \n",
       "\n",
       "    GSPC_Open  GSPC_High  GSPC_Low  GSPC_Close   GSPC_Volume  GSPC_Adjusted  \\\n",
       "1     4155.93    4186.62   4128.97     4140.06  3.604650e+09        4140.06   \n",
       "2     4112.38    4144.95   4096.02     4118.63  3.540960e+09        4118.63   \n",
       "3     3965.72    3975.30   3943.46     3966.84  2.988650e+09        3966.84   \n",
       "4     3883.79    3902.44   3818.63     3830.85  3.414470e+09        3830.85   \n",
       "5     3880.94    3880.94   3847.22     3854.43  3.023830e+09        3854.43   \n",
       "7     3920.76    3927.72   3889.66     3900.11  3.385120e+09        3900.11   \n",
       "9     3838.15    3838.15   3734.30     3749.63  4.572820e+09        3749.63   \n",
       "10    4134.72    4168.78   4109.18     4121.43  3.852050e+09        4121.43   \n",
       "12    3919.42    3981.88   3909.04     3973.75  3.392770e+09        3973.75   \n",
       "13    4013.02    4046.46   3983.99     4008.01  3.824320e+09        4008.01   \n",
       "\n",
       "    Gas_Price  \n",
       "1       4.038  \n",
       "2       4.192  \n",
       "3       4.330  \n",
       "4       4.490  \n",
       "5       4.646  \n",
       "7       4.872  \n",
       "9       5.006  \n",
       "10      4.876  \n",
       "12      4.593  \n",
       "13      4.491  "
      ]
     },
     "execution_count": 23,
     "metadata": {},
     "output_type": "execute_result"
    }
   ],
   "source": [
    "new_data.head(10)"
   ]
  },
  {
   "cell_type": "code",
   "execution_count": 24,
   "id": "90382e6c",
   "metadata": {},
   "outputs": [
    {
     "data": {
      "text/plain": [
       "Index(['Date', 'TX', 'NY', 'FL', 'CO', 'CA', 'Gasoline_stock_price',\n",
       "       'GSPC_Open', 'GSPC_High', 'GSPC_Low', 'GSPC_Close', 'GSPC_Volume',\n",
       "       'GSPC_Adjusted', 'Gas_Price'],\n",
       "      dtype='object')"
      ]
     },
     "execution_count": 24,
     "metadata": {},
     "output_type": "execute_result"
    }
   ],
   "source": [
    "# Columns\n",
    "\n",
    "new_data.columns"
   ]
  },
  {
   "cell_type": "code",
   "execution_count": 26,
   "id": "c4646306",
   "metadata": {},
   "outputs": [
    {
     "data": {
      "text/plain": [
       "Date                     object\n",
       "TX                      float64\n",
       "NY                      float64\n",
       "FL                      float64\n",
       "CO                      float64\n",
       "CA                      float64\n",
       "Gasoline_stock_price    float64\n",
       "GSPC_Open               float64\n",
       "GSPC_High               float64\n",
       "GSPC_Low                float64\n",
       "GSPC_Close              float64\n",
       "GSPC_Volume             float64\n",
       "GSPC_Adjusted           float64\n",
       "Gas_Price               float64\n",
       "dtype: object"
      ]
     },
     "execution_count": 26,
     "metadata": {},
     "output_type": "execute_result"
    }
   ],
   "source": [
    "# List dataframe data types\n",
    "\n",
    "new_data.dtypes"
   ]
  },
  {
   "cell_type": "code",
   "execution_count": 27,
   "id": "a728361a",
   "metadata": {},
   "outputs": [
    {
     "name": "stdout",
     "output_type": "stream",
     "text": [
      "Duplicate entries: 0\n"
     ]
    }
   ],
   "source": [
    "# Find duplicate entries\n",
    "\n",
    "print(f\"Duplicate entries: {new_data.duplicated().sum()}\")"
   ]
  },
  {
   "cell_type": "code",
   "execution_count": 16,
   "id": "436ae1ac",
   "metadata": {},
   "outputs": [
    {
     "data": {
      "image/png": "[encoded data removed]",
      "text/plain": [
       "<Figure size 432x288 with 1 Axes>"
      ]
     },
     "metadata": {
      "needs_background": "light"
     },
     "output_type": "display_data"
    }
   ],
   "source": [
    "plt.scatter(new_data.GSPC_Volume, new_data.NY)\n",
    "plt.xlabel('GSPC_Volume')\n",
    "plt.ylabel('NY')\n",
    "plt.show()"
   ]
  },
  {
   "cell_type": "code",
   "execution_count": 17,
   "id": "c780339e",
   "metadata": {},
   "outputs": [
    {
     "data": {
      "image/png": "[encoded data removed]",
      "text/plain": [
       "<Figure size 432x288 with 1 Axes>"
      ]
     },
     "metadata": {
      "needs_background": "light"
     },
     "output_type": "display_data"
    }
   ],
   "source": [
    "plt.scatter(new_data.GSPC_Volume, new_data.TX, color='gray')\n",
    "plt.xlabel('GSPC_Volume')\n",
    "plt.ylabel('TX')\n",
    "plt.show()"
   ]
  },
  {
   "cell_type": "code",
   "execution_count": 11,
   "id": "d7361d15",
   "metadata": {},
   "outputs": [
    {
     "data": {
      "image/png": "[encoded data removed]",
      "text/plain": [
       "<Figure size 432x288 with 1 Axes>"
      ]
     },
     "metadata": {
      "needs_background": "light"
     },
     "output_type": "display_data"
    }
   ],
   "source": [
    "plt.scatter(new_data.Gasoline_stock_price, new_data.CA, color='green')\n",
    "plt.xlabel('Gasoline_stock_price')\n",
    "plt.ylabel('CA')\n",
    "plt.show()"
   ]
  },
  {
   "cell_type": "code",
   "execution_count": 12,
   "id": "7daa6b8e",
   "metadata": {},
   "outputs": [
    {
     "data": {
      "image/png": "[encoded data removed]",
      "text/plain": [
       "<Figure size 432x288 with 1 Axes>"
      ]
     },
     "metadata": {
      "needs_background": "light"
     },
     "output_type": "display_data"
    }
   ],
   "source": [
    "plt.scatter(new_data.Gasoline_stock_price, new_data.FL, color='purple')\n",
    "plt.xlabel('Gasoline_stock_price')\n",
    "plt.ylabel('FL')\n",
    "plt.show()"
   ]
  },
  {
   "cell_type": "code",
   "execution_count": 14,
   "id": "7734b650",
   "metadata": {},
   "outputs": [
    {
     "data": {
      "image/png": "[encoded data removed]",
      "text/plain": [
       "<Figure size 432x288 with 1 Axes>"
      ]
     },
     "metadata": {
      "needs_background": "light"
     },
     "output_type": "display_data"
    }
   ],
   "source": [
    "plt.scatter(new_data.Gasoline_stock_price, new_data.CO, color='yellow')\n",
    "plt.xlabel('Gasoline_stock_price')\n",
    "plt.ylabel('CO')\n",
    "plt.show()"
   ]
  },
  {
   "cell_type": "code",
   "execution_count": 15,
   "id": "a9d4fd6c",
   "metadata": {},
   "outputs": [
    {
     "data": {
      "image/png": "[encoded data removed]",
      "text/plain": [
       "<Figure size 432x288 with 1 Axes>"
      ]
     },
     "metadata": {
      "needs_background": "light"
     },
     "output_type": "display_data"
    }
   ],
   "source": [
    "plt.scatter(new_data.GSPC_Volume, new_data.Gasoline_stock_price, color='orange')\n",
    "plt.xlabel('GSPC_Volume')\n",
    "plt.ylabel('Gasoline_stock_price')\n",
    "plt.show()"
   ]
  },
  {
   "cell_type": "code",
   "execution_count": 19,
   "id": "75b0e8ec",
   "metadata": {},
   "outputs": [
    {
     "data": {
      "image/png": "[encoded data removed]",
      "text/plain": [
       "<Figure size 432x288 with 1 Axes>"
      ]
     },
     "metadata": {
      "needs_background": "light"
     },
     "output_type": "display_data"
    }
   ],
   "source": [
    "plt.scatter(new_data.TX, new_data.CA, color='blue')\n",
    "plt.xlabel('TX')\n",
    "plt.ylabel('CA')\n",
    "plt.show()"
   ]
  },
  {
   "cell_type": "code",
   "execution_count": 22,
   "id": "a143fd44",
   "metadata": {},
   "outputs": [
    {
     "data": {
      "image/png": "[encoded data removed]",
      "text/plain": [
       "<Figure size 432x288 with 1 Axes>"
      ]
     },
     "metadata": {
      "needs_background": "light"
     },
     "output_type": "display_data"
    }
   ],
   "source": [
    "plt.scatter(new_data.TX, new_data.FL, color='blue')\n",
    "plt.xlabel('TX')\n",
    "plt.ylabel('FL')\n",
    "plt.show()"
   ]
  },
  {
   "cell_type": "code",
   "execution_count": null,
   "id": "fe7493ca",
   "metadata": {},
   "outputs": [],
   "source": []
  }
 ],
 "metadata": {
  "kernelspec": {
   "display_name": "mlenv",
   "language": "python",
   "name": "mlenv"
  },
  "language_info": {
   "codemirror_mode": {
    "name": "ipython",
    "version": 3
   },
   "file_extension": ".py",
   "mimetype": "text/x-python",
   "name": "python",
   "nbconvert_exporter": "python",
   "pygments_lexer": "ipython3",
   "version": "3.7.13"
  }
 },
 "nbformat": 4,
 "nbformat_minor": 5
}
