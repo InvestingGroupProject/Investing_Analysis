{
 "cells": [
  {
   "cell_type": "code",
   "execution_count": 1,
   "id": "b3bbb10a",
   "metadata": {},
   "outputs": [],
   "source": [
    "#Load Packages\n",
    "import pandas as pd\n",
    "import numpy as np\n",
    "from pathlib import Path\n",
    "import matplotlib.pyplot as plt\n",
    "from sklearn.linear_model import LinearRegression\n",
    "from sklearn.preprocessing import PolynomialFeatures\n"
   ]
  },
  {
   "cell_type": "code",
   "execution_count": 2,
   "id": "ed82f066",
   "metadata": {},
   "outputs": [
    {
     "data": {
      "text/html": [
       "<div>\n",
       "<style scoped>\n",
       "    .dataframe tbody tr th:only-of-type {\n",
       "        vertical-align: middle;\n",
       "    }\n",
       "\n",
       "    .dataframe tbody tr th {\n",
       "        vertical-align: top;\n",
       "    }\n",
       "\n",
       "    .dataframe thead th {\n",
       "        text-align: right;\n",
       "    }\n",
       "</style>\n",
       "<table border=\"1\" class=\"dataframe\">\n",
       "  <thead>\n",
       "    <tr style=\"text-align: right;\">\n",
       "      <th></th>\n",
       "      <th>Week</th>\n",
       "      <th>Gasoline_stock_price</th>\n",
       "      <th>GSPC_Open</th>\n",
       "      <th>GSPC_High</th>\n",
       "      <th>GSPC_Low</th>\n",
       "      <th>GSPC_Close</th>\n",
       "      <th>GSPC_Volume</th>\n",
       "      <th>GSPC_Adjusted</th>\n",
       "      <th>Gas_Price</th>\n",
       "    </tr>\n",
       "  </thead>\n",
       "  <tbody>\n",
       "    <tr>\n",
       "      <th>0</th>\n",
       "      <td>44781</td>\n",
       "      <td>215674</td>\n",
       "      <td>4155.93</td>\n",
       "      <td>4186.62</td>\n",
       "      <td>4128.97</td>\n",
       "      <td>4140.06</td>\n",
       "      <td>3604650000</td>\n",
       "      <td>4140.06</td>\n",
       "      <td>4.038</td>\n",
       "    </tr>\n",
       "    <tr>\n",
       "      <th>1</th>\n",
       "      <td>44774</td>\n",
       "      <td>220316</td>\n",
       "      <td>4112.38</td>\n",
       "      <td>4144.95</td>\n",
       "      <td>4096.02</td>\n",
       "      <td>4118.63</td>\n",
       "      <td>3540960000</td>\n",
       "      <td>4118.63</td>\n",
       "      <td>4.192</td>\n",
       "    </tr>\n",
       "    <tr>\n",
       "      <th>2</th>\n",
       "      <td>44767</td>\n",
       "      <td>225294</td>\n",
       "      <td>3965.72</td>\n",
       "      <td>3975.30</td>\n",
       "      <td>3943.46</td>\n",
       "      <td>3966.84</td>\n",
       "      <td>2988650000</td>\n",
       "      <td>3966.84</td>\n",
       "      <td>4.330</td>\n",
       "    </tr>\n",
       "    <tr>\n",
       "      <th>3</th>\n",
       "      <td>44760</td>\n",
       "      <td>225131</td>\n",
       "      <td>3883.79</td>\n",
       "      <td>3902.44</td>\n",
       "      <td>3818.63</td>\n",
       "      <td>3830.85</td>\n",
       "      <td>3414470000</td>\n",
       "      <td>3830.85</td>\n",
       "      <td>4.490</td>\n",
       "    </tr>\n",
       "    <tr>\n",
       "      <th>4</th>\n",
       "      <td>44753</td>\n",
       "      <td>228435</td>\n",
       "      <td>3880.94</td>\n",
       "      <td>3880.94</td>\n",
       "      <td>3847.22</td>\n",
       "      <td>3854.43</td>\n",
       "      <td>3023830000</td>\n",
       "      <td>3854.43</td>\n",
       "      <td>4.646</td>\n",
       "    </tr>\n",
       "  </tbody>\n",
       "</table>\n",
       "</div>"
      ],
      "text/plain": [
       "    Week  Gasoline_stock_price  GSPC_Open  GSPC_High  GSPC_Low  GSPC_Close  \\\n",
       "0  44781                215674    4155.93    4186.62   4128.97     4140.06   \n",
       "1  44774                220316    4112.38    4144.95   4096.02     4118.63   \n",
       "2  44767                225294    3965.72    3975.30   3943.46     3966.84   \n",
       "3  44760                225131    3883.79    3902.44   3818.63     3830.85   \n",
       "4  44753                228435    3880.94    3880.94   3847.22     3854.43   \n",
       "\n",
       "   GSPC_Volume  GSPC_Adjusted  Gas_Price  \n",
       "0   3604650000        4140.06      4.038  \n",
       "1   3540960000        4118.63      4.192  \n",
       "2   2988650000        3966.84      4.330  \n",
       "3   3414470000        3830.85      4.490  \n",
       "4   3023830000        3854.43      4.646  "
      ]
     },
     "execution_count": 2,
     "metadata": {},
     "output_type": "execute_result"
    }
   ],
   "source": [
    "data = Path(r\"C:\\Users\\lmeji\\Desktop\\Project_branch\\Investing_Analysis\\Resources\\SP500&Gas_updated.csv\")\n",
    "data_df = pd.read_csv(data)\n",
    "data_df.head()"
   ]
  },
  {
   "cell_type": "code",
   "execution_count": 3,
   "id": "2773df42",
   "metadata": {},
   "outputs": [],
   "source": [
    "x = data_df['GSPC_Close'].values\n",
    "y = data_df['Gas_Price'].values"
   ]
  },
  {
   "cell_type": "code",
   "execution_count": 4,
   "id": "9ed60df0",
   "metadata": {},
   "outputs": [],
   "source": [
    "x = x.reshape(-1, 1)"
   ]
  },
  {
   "cell_type": "code",
   "execution_count": 5,
   "id": "5354b730",
   "metadata": {},
   "outputs": [],
   "source": [
    "poly = PolynomialFeatures(degree=5)"
   ]
  },
  {
   "cell_type": "code",
   "execution_count": 6,
   "id": "a6781d00",
   "metadata": {},
   "outputs": [],
   "source": [
    "X_poly = poly.fit_transform(x)"
   ]
  },
  {
   "cell_type": "code",
   "execution_count": 7,
   "id": "145adb83",
   "metadata": {},
   "outputs": [
    {
     "data": {
      "text/plain": [
       "PolynomialFeatures(degree=5)"
      ]
     },
     "execution_count": 7,
     "metadata": {},
     "output_type": "execute_result"
    }
   ],
   "source": [
    "poly.fit(X_poly, y)"
   ]
  },
  {
   "cell_type": "code",
   "execution_count": 8,
   "id": "959c485c",
   "metadata": {},
   "outputs": [],
   "source": [
    "linreg = LinearRegression()"
   ]
  },
  {
   "cell_type": "code",
   "execution_count": 9,
   "id": "21202f15",
   "metadata": {},
   "outputs": [
    {
     "data": {
      "text/plain": [
       "LinearRegression()"
      ]
     },
     "execution_count": 9,
     "metadata": {},
     "output_type": "execute_result"
    }
   ],
   "source": [
    "linreg.fit(X_poly, y)"
   ]
  },
  {
   "cell_type": "code",
   "execution_count": 10,
   "id": "db5c329b",
   "metadata": {},
   "outputs": [],
   "source": [
    "y_pred = linreg.predict(X_poly)"
   ]
  },
  {
   "cell_type": "code",
   "execution_count": 11,
   "id": "d983d94e",
   "metadata": {},
   "outputs": [
    {
     "data": {
      "text/plain": [
       "[<matplotlib.lines.Line2D at 0x15adf8bb708>]"
      ]
     },
     "execution_count": 11,
     "metadata": {},
     "output_type": "execute_result"
    },
    {
     "data": {
      "image/png": "[encoded data removed]",
      "text/plain": [
       "<Figure size 432x288 with 1 Axes>"
      ]
     },
     "metadata": {
      "needs_background": "light"
     },
     "output_type": "display_data"
    }
   ],
   "source": [
    "plt.scatter(x,y, color='gray')\n",
    "plt.plot(x, y_pred, color='red')"
   ]
  },
  {
   "cell_type": "code",
   "execution_count": 12,
   "id": "6c37e0e8",
   "metadata": {},
   "outputs": [],
   "source": [
    "#The linear regression line is not very fitted therefore we can increase the degrees of freedoms from 1 to 5"
   ]
  },
  {
   "cell_type": "code",
   "execution_count": 13,
   "id": "2d218fdf",
   "metadata": {},
   "outputs": [],
   "source": [
    "#BICk = nlog(SSe) + klog(n)"
   ]
  },
  {
   "cell_type": "code",
   "execution_count": 14,
   "id": "3b18f08d",
   "metadata": {},
   "outputs": [],
   "source": [
    "#It seems that with 5 df"
   ]
  },
  {
   "cell_type": "code",
   "execution_count": null,
   "id": "430141e4",
   "metadata": {},
   "outputs": [],
   "source": []
  }
 ],
 "metadata": {
  "kernelspec": {
   "display_name": "mlenv",
   "language": "python",
   "name": "mlenv"
  },
  "language_info": {
   "codemirror_mode": {
    "name": "ipython",
    "version": 3
   },
   "file_extension": ".py",
   "mimetype": "text/x-python",
   "name": "python",
   "nbconvert_exporter": "python",
   "pygments_lexer": "ipython3",
   "version": "3.7.13"
  }
 },
 "nbformat": 4,
 "nbformat_minor": 5
}
