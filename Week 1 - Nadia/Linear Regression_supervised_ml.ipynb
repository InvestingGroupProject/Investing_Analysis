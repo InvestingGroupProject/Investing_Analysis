{
 "cells": [
  {
   "cell_type": "code",
   "execution_count": 11,
   "id": "1af2143c",
   "metadata": {},
   "outputs": [],
   "source": [
    "#Load Packages\n",
    "import pandas as pd\n",
    "from pathlib import Path\n",
    "import matplotlib.pyplot as plt\n",
    "from sklearn.linear_model import LinearRegression\n",
    "import numpy as np"
   ]
  },
  {
   "cell_type": "code",
   "execution_count": 12,
   "id": "39a3e539",
   "metadata": {},
   "outputs": [
    {
     "data": {
      "text/html": [
       "<div>\n",
       "<style scoped>\n",
       "    .dataframe tbody tr th:only-of-type {\n",
       "        vertical-align: middle;\n",
       "    }\n",
       "\n",
       "    .dataframe tbody tr th {\n",
       "        vertical-align: top;\n",
       "    }\n",
       "\n",
       "    .dataframe thead th {\n",
       "        text-align: right;\n",
       "    }\n",
       "</style>\n",
       "<table border=\"1\" class=\"dataframe\">\n",
       "  <thead>\n",
       "    <tr style=\"text-align: right;\">\n",
       "      <th></th>\n",
       "      <th>Week</th>\n",
       "      <th>Gasoline_stock_price</th>\n",
       "      <th>GSPC_Open</th>\n",
       "      <th>GSPC_High</th>\n",
       "      <th>GSPC_Low</th>\n",
       "      <th>GSPC_Close</th>\n",
       "      <th>GSPC_Volume</th>\n",
       "      <th>GSPC_Adjusted</th>\n",
       "      <th>Gas_Price</th>\n",
       "    </tr>\n",
       "  </thead>\n",
       "  <tbody>\n",
       "    <tr>\n",
       "      <th>0</th>\n",
       "      <td>44781</td>\n",
       "      <td>215674</td>\n",
       "      <td>4155.93</td>\n",
       "      <td>4186.62</td>\n",
       "      <td>4128.97</td>\n",
       "      <td>4140.06</td>\n",
       "      <td>3604650000</td>\n",
       "      <td>4140.06</td>\n",
       "      <td>4.038</td>\n",
       "    </tr>\n",
       "    <tr>\n",
       "      <th>1</th>\n",
       "      <td>44774</td>\n",
       "      <td>220316</td>\n",
       "      <td>4112.38</td>\n",
       "      <td>4144.95</td>\n",
       "      <td>4096.02</td>\n",
       "      <td>4118.63</td>\n",
       "      <td>3540960000</td>\n",
       "      <td>4118.63</td>\n",
       "      <td>4.192</td>\n",
       "    </tr>\n",
       "    <tr>\n",
       "      <th>2</th>\n",
       "      <td>44767</td>\n",
       "      <td>225294</td>\n",
       "      <td>3965.72</td>\n",
       "      <td>3975.30</td>\n",
       "      <td>3943.46</td>\n",
       "      <td>3966.84</td>\n",
       "      <td>2988650000</td>\n",
       "      <td>3966.84</td>\n",
       "      <td>4.330</td>\n",
       "    </tr>\n",
       "    <tr>\n",
       "      <th>3</th>\n",
       "      <td>44760</td>\n",
       "      <td>225131</td>\n",
       "      <td>3883.79</td>\n",
       "      <td>3902.44</td>\n",
       "      <td>3818.63</td>\n",
       "      <td>3830.85</td>\n",
       "      <td>3414470000</td>\n",
       "      <td>3830.85</td>\n",
       "      <td>4.490</td>\n",
       "    </tr>\n",
       "    <tr>\n",
       "      <th>4</th>\n",
       "      <td>44753</td>\n",
       "      <td>228435</td>\n",
       "      <td>3880.94</td>\n",
       "      <td>3880.94</td>\n",
       "      <td>3847.22</td>\n",
       "      <td>3854.43</td>\n",
       "      <td>3023830000</td>\n",
       "      <td>3854.43</td>\n",
       "      <td>4.646</td>\n",
       "    </tr>\n",
       "  </tbody>\n",
       "</table>\n",
       "</div>"
      ],
      "text/plain": [
       "    Week  Gasoline_stock_price  GSPC_Open  GSPC_High  GSPC_Low  GSPC_Close  \\\n",
       "0  44781                215674    4155.93    4186.62   4128.97     4140.06   \n",
       "1  44774                220316    4112.38    4144.95   4096.02     4118.63   \n",
       "2  44767                225294    3965.72    3975.30   3943.46     3966.84   \n",
       "3  44760                225131    3883.79    3902.44   3818.63     3830.85   \n",
       "4  44753                228435    3880.94    3880.94   3847.22     3854.43   \n",
       "\n",
       "   GSPC_Volume  GSPC_Adjusted  Gas_Price  \n",
       "0   3604650000        4140.06      4.038  \n",
       "1   3540960000        4118.63      4.192  \n",
       "2   2988650000        3966.84      4.330  \n",
       "3   3414470000        3830.85      4.490  \n",
       "4   3023830000        3854.43      4.646  "
      ]
     },
     "execution_count": 12,
     "metadata": {},
     "output_type": "execute_result"
    }
   ],
   "source": [
    "#Import csv file and create data frame\n",
    "#df = pd.read_csv(Path('..Resources/SP500&Gas.csv'))\n",
    "#pd.read_csv('SP500 & Gas',encoding = \"utf-8\")\n",
    "#kwds.update(kwds_defaults)\n",
    "#return _read(r\"C:\\Users\\lmeji\\Desktop\\Project_branch\\Investing_Analysis\\Resources\\SP500&Gas.csv\", kwds)\n",
    "data = Path(r\"C:\\Users\\lmeji\\Desktop\\Project_branch\\Investing_Analysis\\Resources\\SP500&Gas_updated.csv\")\n",
    "data_df = pd.read_csv(data)\n",
    "data_df.head()"
   ]
  },
  {
   "cell_type": "code",
   "execution_count": null,
   "id": "137d3fc3",
   "metadata": {},
   "outputs": [],
   "source": [
    "#parser = TextFileReader(\"C:\\\\Users\\\\lmeji\\\\Desktop\\\\Project_branch\\\\Investing_Analysis\\\\Resources\\\\SP500 & Gas.csv\""
   ]
  },
  {
   "cell_type": "code",
   "execution_count": 13,
   "id": "1978951a",
   "metadata": {},
   "outputs": [
    {
     "name": "stdout",
     "output_type": "stream",
     "text": [
      "(1068, 9)\n"
     ]
    }
   ],
   "source": [
    "#Double check the data shape\n",
    "#this is help to understand if we are dealing with a long (more rows than columns) or wide set (more columns than rows)\n",
    "\n",
    "print(data_df.shape)"
   ]
  },
  {
   "cell_type": "code",
   "execution_count": 56,
   "id": "9ab2ce11",
   "metadata": {},
   "outputs": [],
   "source": [
    "#import math\n",
    "#from math import trunc\n",
    "\n",
    "#num = ('GSPC_Open','GSPC_High','GSPC_Low','GSPC_Close','GSPC_Volume','GSPC_Adjusted','Gas_Price')\n",
    "#df['GSPC_Open'] = df['GSPC_Open'].astype(int)\n"
   ]
  },
  {
   "cell_type": "code",
   "execution_count": 14,
   "id": "ad37073e",
   "metadata": {},
   "outputs": [
    {
     "data": {
      "text/plain": [
       "Week                      int64\n",
       "Gasoline_stock_price      int64\n",
       "GSPC_Open               float64\n",
       "GSPC_High               float64\n",
       "GSPC_Low                float64\n",
       "GSPC_Close              float64\n",
       "GSPC_Volume               int64\n",
       "GSPC_Adjusted           float64\n",
       "Gas_Price               float64\n",
       "dtype: object"
      ]
     },
     "execution_count": 14,
     "metadata": {},
     "output_type": "execute_result"
    }
   ],
   "source": [
    "#Check out the data types: this could reveal additonal conversions that might need to happen \n",
    "\n",
    "data_df.dtypes"
   ]
  },
  {
   "cell_type": "code",
   "execution_count": null,
   "id": "4de59f79",
   "metadata": {},
   "outputs": [],
   "source": []
  },
  {
   "cell_type": "code",
   "execution_count": 15,
   "id": "1326dd64",
   "metadata": {},
   "outputs": [
    {
     "name": "stdout",
     "output_type": "stream",
     "text": [
      "(1068, 9)\n"
     ]
    },
    {
     "data": {
      "text/html": [
       "<div>\n",
       "<style scoped>\n",
       "    .dataframe tbody tr th:only-of-type {\n",
       "        vertical-align: middle;\n",
       "    }\n",
       "\n",
       "    .dataframe tbody tr th {\n",
       "        vertical-align: top;\n",
       "    }\n",
       "\n",
       "    .dataframe thead th {\n",
       "        text-align: right;\n",
       "    }\n",
       "</style>\n",
       "<table border=\"1\" class=\"dataframe\">\n",
       "  <thead>\n",
       "    <tr style=\"text-align: right;\">\n",
       "      <th></th>\n",
       "      <th>Week</th>\n",
       "      <th>Gasoline_stock_price</th>\n",
       "      <th>GSPC_Open</th>\n",
       "      <th>GSPC_High</th>\n",
       "      <th>GSPC_Low</th>\n",
       "      <th>GSPC_Close</th>\n",
       "      <th>GSPC_Volume</th>\n",
       "      <th>GSPC_Adjusted</th>\n",
       "      <th>Gas_Price</th>\n",
       "    </tr>\n",
       "  </thead>\n",
       "  <tbody>\n",
       "    <tr>\n",
       "      <th>0</th>\n",
       "      <td>44781</td>\n",
       "      <td>215674</td>\n",
       "      <td>4155.93</td>\n",
       "      <td>4186.62</td>\n",
       "      <td>4128.97</td>\n",
       "      <td>4140.06</td>\n",
       "      <td>3604650000</td>\n",
       "      <td>4140.06</td>\n",
       "      <td>4.038</td>\n",
       "    </tr>\n",
       "    <tr>\n",
       "      <th>1</th>\n",
       "      <td>44774</td>\n",
       "      <td>220316</td>\n",
       "      <td>4112.38</td>\n",
       "      <td>4144.95</td>\n",
       "      <td>4096.02</td>\n",
       "      <td>4118.63</td>\n",
       "      <td>3540960000</td>\n",
       "      <td>4118.63</td>\n",
       "      <td>4.192</td>\n",
       "    </tr>\n",
       "    <tr>\n",
       "      <th>2</th>\n",
       "      <td>44767</td>\n",
       "      <td>225294</td>\n",
       "      <td>3965.72</td>\n",
       "      <td>3975.30</td>\n",
       "      <td>3943.46</td>\n",
       "      <td>3966.84</td>\n",
       "      <td>2988650000</td>\n",
       "      <td>3966.84</td>\n",
       "      <td>4.330</td>\n",
       "    </tr>\n",
       "    <tr>\n",
       "      <th>3</th>\n",
       "      <td>44760</td>\n",
       "      <td>225131</td>\n",
       "      <td>3883.79</td>\n",
       "      <td>3902.44</td>\n",
       "      <td>3818.63</td>\n",
       "      <td>3830.85</td>\n",
       "      <td>3414470000</td>\n",
       "      <td>3830.85</td>\n",
       "      <td>4.490</td>\n",
       "    </tr>\n",
       "    <tr>\n",
       "      <th>4</th>\n",
       "      <td>44753</td>\n",
       "      <td>228435</td>\n",
       "      <td>3880.94</td>\n",
       "      <td>3880.94</td>\n",
       "      <td>3847.22</td>\n",
       "      <td>3854.43</td>\n",
       "      <td>3023830000</td>\n",
       "      <td>3854.43</td>\n",
       "      <td>4.646</td>\n",
       "    </tr>\n",
       "  </tbody>\n",
       "</table>\n",
       "</div>"
      ],
      "text/plain": [
       "    Week  Gasoline_stock_price  GSPC_Open  GSPC_High  GSPC_Low  GSPC_Close  \\\n",
       "0  44781                215674    4155.93    4186.62   4128.97     4140.06   \n",
       "1  44774                220316    4112.38    4144.95   4096.02     4118.63   \n",
       "2  44767                225294    3965.72    3975.30   3943.46     3966.84   \n",
       "3  44760                225131    3883.79    3902.44   3818.63     3830.85   \n",
       "4  44753                228435    3880.94    3880.94   3847.22     3854.43   \n",
       "\n",
       "   GSPC_Volume  GSPC_Adjusted  Gas_Price  \n",
       "0   3604650000        4140.06      4.038  \n",
       "1   3540960000        4118.63      4.192  \n",
       "2   2988650000        3966.84      4.330  \n",
       "3   3414470000        3830.85      4.490  \n",
       "4   3023830000        3854.43      4.646  "
      ]
     },
     "execution_count": 15,
     "metadata": {},
     "output_type": "execute_result"
    }
   ],
   "source": [
    "#Remove rows that have at least 1 null value.\n",
    "\n",
    "new_data = data_df.dropna()\n",
    "\n",
    "#Check the dataset shape and head to make sure the nulls were removed\n",
    "\n",
    "print(new_data.shape)\n",
    "\n",
    "new_data.head()"
   ]
  },
  {
   "cell_type": "code",
   "execution_count": 16,
   "id": "c8467c5b",
   "metadata": {},
   "outputs": [
    {
     "data": {
      "text/html": [
       "<div>\n",
       "<style scoped>\n",
       "    .dataframe tbody tr th:only-of-type {\n",
       "        vertical-align: middle;\n",
       "    }\n",
       "\n",
       "    .dataframe tbody tr th {\n",
       "        vertical-align: top;\n",
       "    }\n",
       "\n",
       "    .dataframe thead th {\n",
       "        text-align: right;\n",
       "    }\n",
       "</style>\n",
       "<table border=\"1\" class=\"dataframe\">\n",
       "  <thead>\n",
       "    <tr style=\"text-align: right;\">\n",
       "      <th></th>\n",
       "      <th>Week</th>\n",
       "      <th>Gasoline_stock_price</th>\n",
       "      <th>GSPC_Open</th>\n",
       "      <th>GSPC_High</th>\n",
       "      <th>GSPC_Low</th>\n",
       "      <th>GSPC_Close</th>\n",
       "      <th>GSPC_Volume</th>\n",
       "      <th>GSPC_Adjusted</th>\n",
       "      <th>Gas_Price</th>\n",
       "    </tr>\n",
       "  </thead>\n",
       "  <tbody>\n",
       "    <tr>\n",
       "      <th>0</th>\n",
       "      <td>44781</td>\n",
       "      <td>215674</td>\n",
       "      <td>4155.93</td>\n",
       "      <td>4186.62</td>\n",
       "      <td>4128.97</td>\n",
       "      <td>4140.06</td>\n",
       "      <td>3604650000</td>\n",
       "      <td>4140.06</td>\n",
       "      <td>4.038</td>\n",
       "    </tr>\n",
       "    <tr>\n",
       "      <th>1</th>\n",
       "      <td>44774</td>\n",
       "      <td>220316</td>\n",
       "      <td>4112.38</td>\n",
       "      <td>4144.95</td>\n",
       "      <td>4096.02</td>\n",
       "      <td>4118.63</td>\n",
       "      <td>3540960000</td>\n",
       "      <td>4118.63</td>\n",
       "      <td>4.192</td>\n",
       "    </tr>\n",
       "    <tr>\n",
       "      <th>2</th>\n",
       "      <td>44767</td>\n",
       "      <td>225294</td>\n",
       "      <td>3965.72</td>\n",
       "      <td>3975.30</td>\n",
       "      <td>3943.46</td>\n",
       "      <td>3966.84</td>\n",
       "      <td>2988650000</td>\n",
       "      <td>3966.84</td>\n",
       "      <td>4.330</td>\n",
       "    </tr>\n",
       "    <tr>\n",
       "      <th>3</th>\n",
       "      <td>44760</td>\n",
       "      <td>225131</td>\n",
       "      <td>3883.79</td>\n",
       "      <td>3902.44</td>\n",
       "      <td>3818.63</td>\n",
       "      <td>3830.85</td>\n",
       "      <td>3414470000</td>\n",
       "      <td>3830.85</td>\n",
       "      <td>4.490</td>\n",
       "    </tr>\n",
       "    <tr>\n",
       "      <th>4</th>\n",
       "      <td>44753</td>\n",
       "      <td>228435</td>\n",
       "      <td>3880.94</td>\n",
       "      <td>3880.94</td>\n",
       "      <td>3847.22</td>\n",
       "      <td>3854.43</td>\n",
       "      <td>3023830000</td>\n",
       "      <td>3854.43</td>\n",
       "      <td>4.646</td>\n",
       "    </tr>\n",
       "    <tr>\n",
       "      <th>5</th>\n",
       "      <td>44739</td>\n",
       "      <td>219112</td>\n",
       "      <td>3920.76</td>\n",
       "      <td>3927.72</td>\n",
       "      <td>3889.66</td>\n",
       "      <td>3900.11</td>\n",
       "      <td>3385120000</td>\n",
       "      <td>3900.11</td>\n",
       "      <td>4.872</td>\n",
       "    </tr>\n",
       "    <tr>\n",
       "      <th>6</th>\n",
       "      <td>44725</td>\n",
       "      <td>218963</td>\n",
       "      <td>3838.15</td>\n",
       "      <td>3838.15</td>\n",
       "      <td>3734.30</td>\n",
       "      <td>3749.63</td>\n",
       "      <td>4572820000</td>\n",
       "      <td>3749.63</td>\n",
       "      <td>5.006</td>\n",
       "    </tr>\n",
       "    <tr>\n",
       "      <th>7</th>\n",
       "      <td>44718</td>\n",
       "      <td>217474</td>\n",
       "      <td>4134.72</td>\n",
       "      <td>4168.78</td>\n",
       "      <td>4109.18</td>\n",
       "      <td>4121.43</td>\n",
       "      <td>3852050000</td>\n",
       "      <td>4121.43</td>\n",
       "      <td>4.876</td>\n",
       "    </tr>\n",
       "    <tr>\n",
       "      <th>8</th>\n",
       "      <td>44704</td>\n",
       "      <td>218996</td>\n",
       "      <td>3919.42</td>\n",
       "      <td>3981.88</td>\n",
       "      <td>3909.04</td>\n",
       "      <td>3973.75</td>\n",
       "      <td>3392770000</td>\n",
       "      <td>3973.75</td>\n",
       "      <td>4.593</td>\n",
       "    </tr>\n",
       "    <tr>\n",
       "      <th>9</th>\n",
       "      <td>44697</td>\n",
       "      <td>219707</td>\n",
       "      <td>4013.02</td>\n",
       "      <td>4046.46</td>\n",
       "      <td>3983.99</td>\n",
       "      <td>4008.01</td>\n",
       "      <td>3824320000</td>\n",
       "      <td>4008.01</td>\n",
       "      <td>4.491</td>\n",
       "    </tr>\n",
       "    <tr>\n",
       "      <th>10</th>\n",
       "      <td>44690</td>\n",
       "      <td>220189</td>\n",
       "      <td>4081.27</td>\n",
       "      <td>4081.27</td>\n",
       "      <td>3975.48</td>\n",
       "      <td>3991.24</td>\n",
       "      <td>4746120000</td>\n",
       "      <td>3991.24</td>\n",
       "      <td>4.328</td>\n",
       "    </tr>\n",
       "    <tr>\n",
       "      <th>11</th>\n",
       "      <td>44683</td>\n",
       "      <td>224968</td>\n",
       "      <td>4130.61</td>\n",
       "      <td>4169.81</td>\n",
       "      <td>4062.51</td>\n",
       "      <td>4155.38</td>\n",
       "      <td>4474060000</td>\n",
       "      <td>4155.38</td>\n",
       "      <td>4.182</td>\n",
       "    </tr>\n",
       "    <tr>\n",
       "      <th>12</th>\n",
       "      <td>44676</td>\n",
       "      <td>228575</td>\n",
       "      <td>4255.34</td>\n",
       "      <td>4299.02</td>\n",
       "      <td>4200.82</td>\n",
       "      <td>4296.12</td>\n",
       "      <td>4061070000</td>\n",
       "      <td>4296.12</td>\n",
       "      <td>4.107</td>\n",
       "    </tr>\n",
       "    <tr>\n",
       "      <th>13</th>\n",
       "      <td>44669</td>\n",
       "      <td>230805</td>\n",
       "      <td>4385.63</td>\n",
       "      <td>4410.31</td>\n",
       "      <td>4370.30</td>\n",
       "      <td>4391.69</td>\n",
       "      <td>3509340000</td>\n",
       "      <td>4391.69</td>\n",
       "      <td>4.066</td>\n",
       "    </tr>\n",
       "    <tr>\n",
       "      <th>14</th>\n",
       "      <td>44662</td>\n",
       "      <td>232378</td>\n",
       "      <td>4462.64</td>\n",
       "      <td>4464.35</td>\n",
       "      <td>4408.38</td>\n",
       "      <td>4412.53</td>\n",
       "      <td>3452540000</td>\n",
       "      <td>4412.53</td>\n",
       "      <td>4.091</td>\n",
       "    </tr>\n",
       "    <tr>\n",
       "      <th>15</th>\n",
       "      <td>44655</td>\n",
       "      <td>233139</td>\n",
       "      <td>4547.97</td>\n",
       "      <td>4583.50</td>\n",
       "      <td>4539.21</td>\n",
       "      <td>4582.64</td>\n",
       "      <td>3833500000</td>\n",
       "      <td>4582.64</td>\n",
       "      <td>4.170</td>\n",
       "    </tr>\n",
       "    <tr>\n",
       "      <th>16</th>\n",
       "      <td>44648</td>\n",
       "      <td>236787</td>\n",
       "      <td>4541.09</td>\n",
       "      <td>4575.65</td>\n",
       "      <td>4517.69</td>\n",
       "      <td>4575.52</td>\n",
       "      <td>3696850000</td>\n",
       "      <td>4575.52</td>\n",
       "      <td>4.231</td>\n",
       "    </tr>\n",
       "    <tr>\n",
       "      <th>17</th>\n",
       "      <td>44641</td>\n",
       "      <td>238828</td>\n",
       "      <td>4462.40</td>\n",
       "      <td>4481.75</td>\n",
       "      <td>4424.30</td>\n",
       "      <td>4461.18</td>\n",
       "      <td>3961050000</td>\n",
       "      <td>4461.18</td>\n",
       "      <td>4.239</td>\n",
       "    </tr>\n",
       "    <tr>\n",
       "      <th>18</th>\n",
       "      <td>44634</td>\n",
       "      <td>238043</td>\n",
       "      <td>4202.75</td>\n",
       "      <td>4247.57</td>\n",
       "      <td>4161.72</td>\n",
       "      <td>4173.11</td>\n",
       "      <td>4757600000</td>\n",
       "      <td>4173.11</td>\n",
       "      <td>4.315</td>\n",
       "    </tr>\n",
       "    <tr>\n",
       "      <th>19</th>\n",
       "      <td>44627</td>\n",
       "      <td>240991</td>\n",
       "      <td>4327.01</td>\n",
       "      <td>4327.01</td>\n",
       "      <td>4199.85</td>\n",
       "      <td>4201.09</td>\n",
       "      <td>5506330000</td>\n",
       "      <td>4201.09</td>\n",
       "      <td>4.102</td>\n",
       "    </tr>\n",
       "  </tbody>\n",
       "</table>\n",
       "</div>"
      ],
      "text/plain": [
       "     Week  Gasoline_stock_price  GSPC_Open  GSPC_High  GSPC_Low  GSPC_Close  \\\n",
       "0   44781                215674    4155.93    4186.62   4128.97     4140.06   \n",
       "1   44774                220316    4112.38    4144.95   4096.02     4118.63   \n",
       "2   44767                225294    3965.72    3975.30   3943.46     3966.84   \n",
       "3   44760                225131    3883.79    3902.44   3818.63     3830.85   \n",
       "4   44753                228435    3880.94    3880.94   3847.22     3854.43   \n",
       "5   44739                219112    3920.76    3927.72   3889.66     3900.11   \n",
       "6   44725                218963    3838.15    3838.15   3734.30     3749.63   \n",
       "7   44718                217474    4134.72    4168.78   4109.18     4121.43   \n",
       "8   44704                218996    3919.42    3981.88   3909.04     3973.75   \n",
       "9   44697                219707    4013.02    4046.46   3983.99     4008.01   \n",
       "10  44690                220189    4081.27    4081.27   3975.48     3991.24   \n",
       "11  44683                224968    4130.61    4169.81   4062.51     4155.38   \n",
       "12  44676                228575    4255.34    4299.02   4200.82     4296.12   \n",
       "13  44669                230805    4385.63    4410.31   4370.30     4391.69   \n",
       "14  44662                232378    4462.64    4464.35   4408.38     4412.53   \n",
       "15  44655                233139    4547.97    4583.50   4539.21     4582.64   \n",
       "16  44648                236787    4541.09    4575.65   4517.69     4575.52   \n",
       "17  44641                238828    4462.40    4481.75   4424.30     4461.18   \n",
       "18  44634                238043    4202.75    4247.57   4161.72     4173.11   \n",
       "19  44627                240991    4327.01    4327.01   4199.85     4201.09   \n",
       "\n",
       "    GSPC_Volume  GSPC_Adjusted  Gas_Price  \n",
       "0    3604650000        4140.06      4.038  \n",
       "1    3540960000        4118.63      4.192  \n",
       "2    2988650000        3966.84      4.330  \n",
       "3    3414470000        3830.85      4.490  \n",
       "4    3023830000        3854.43      4.646  \n",
       "5    3385120000        3900.11      4.872  \n",
       "6    4572820000        3749.63      5.006  \n",
       "7    3852050000        4121.43      4.876  \n",
       "8    3392770000        3973.75      4.593  \n",
       "9    3824320000        4008.01      4.491  \n",
       "10   4746120000        3991.24      4.328  \n",
       "11   4474060000        4155.38      4.182  \n",
       "12   4061070000        4296.12      4.107  \n",
       "13   3509340000        4391.69      4.066  \n",
       "14   3452540000        4412.53      4.091  \n",
       "15   3833500000        4582.64      4.170  \n",
       "16   3696850000        4575.52      4.231  \n",
       "17   3961050000        4461.18      4.239  \n",
       "18   4757600000        4173.11      4.315  \n",
       "19   5506330000        4201.09      4.102  "
      ]
     },
     "execution_count": 16,
     "metadata": {},
     "output_type": "execute_result"
    }
   ],
   "source": [
    "new_data.head(20)"
   ]
  },
  {
   "cell_type": "code",
   "execution_count": 19,
   "id": "21cd04cb",
   "metadata": {},
   "outputs": [
    {
     "data": {
      "image/png": "[encoded data removed]",
      "text/plain": [
       "<Figure size 432x288 with 1 Axes>"
      ]
     },
     "metadata": {
      "needs_background": "light"
     },
     "output_type": "display_data"
    }
   ],
   "source": [
    "plt.scatter(new_data.GSPC_Close, new_data.Gas_Price)\n",
    "plt.xlabel('GSPC_Close')\n",
    "plt.ylabel('Gas_Price')\n",
    "plt.show()"
   ]
  },
  {
   "cell_type": "code",
   "execution_count": 37,
   "id": "b657133a",
   "metadata": {},
   "outputs": [],
   "source": [
    "# The data in the df column must be reshaped into an array with shape (num_samples, num_features)\n",
    "# https://stackoverflow.com/questions/18691084/what-does-1-mean-in-numpy-reshape\n",
    "X = new_data.GSPC_Close.values.reshape(-1, 1)"
   ]
  },
  {
   "cell_type": "code",
   "execution_count": 38,
   "id": "00651063",
   "metadata": {},
   "outputs": [
    {
     "data": {
      "text/plain": [
       "array([[4140.06],\n",
       "       [4118.63],\n",
       "       [3966.84],\n",
       "       [3830.85],\n",
       "       [3854.43]])"
      ]
     },
     "execution_count": 38,
     "metadata": {},
     "output_type": "execute_result"
    }
   ],
   "source": [
    "X[:5]"
   ]
  },
  {
   "cell_type": "code",
   "execution_count": 39,
   "id": "51f7326c",
   "metadata": {},
   "outputs": [
    {
     "data": {
      "text/plain": [
       "(1068, 1)"
      ]
     },
     "execution_count": 39,
     "metadata": {},
     "output_type": "execute_result"
    }
   ],
   "source": [
    "# The shape of X with 1068 samples and a single feature (column)\n",
    "X.shape"
   ]
  },
  {
   "cell_type": "code",
   "execution_count": 40,
   "id": "5e65b696",
   "metadata": {},
   "outputs": [],
   "source": [
    "y = new_data.Gas_Price"
   ]
  },
  {
   "cell_type": "code",
   "execution_count": 41,
   "id": "d3673123",
   "metadata": {},
   "outputs": [],
   "source": [
    "# Create a model with scikit-learn\n",
    "#Perform linear regression with 9 columns\n",
    "model = LinearRegression()"
   ]
  },
  {
   "cell_type": "code",
   "execution_count": 42,
   "id": "1a019de3",
   "metadata": {},
   "outputs": [
    {
     "data": {
      "text/plain": [
       "LinearRegression()"
      ]
     },
     "execution_count": 42,
     "metadata": {},
     "output_type": "execute_result"
    }
   ],
   "source": [
    "# Fit the data into the model\n",
    "# By convention, X is capitalized and y is lowercase\n",
    "model.fit(X, y)"
   ]
  },
  {
   "cell_type": "code",
   "execution_count": 43,
   "id": "aa1b1762",
   "metadata": {},
   "outputs": [
    {
     "name": "stdout",
     "output_type": "stream",
     "text": [
      "(1068,)\n"
     ]
    }
   ],
   "source": [
    "# The model creates predicted y values based on X values\n",
    "y_pred = model.predict(X)\n",
    "print(y_pred.shape)"
   ]
  },
  {
   "cell_type": "code",
   "execution_count": 44,
   "id": "fc4cc6bf",
   "metadata": {},
   "outputs": [
    {
     "data": {
      "image/png": "[encoded data removed]",
      "text/plain": [
       "<Figure size 432x288 with 1 Axes>"
      ]
     },
     "metadata": {
      "needs_background": "light"
     },
     "output_type": "display_data"
    }
   ],
   "source": [
    "# Plot the results. The best fit line is red.\n",
    "plt.scatter(X, y)\n",
    "plt.plot(X, y_pred, color='red')\n",
    "plt.show()"
   ]
  },
  {
   "cell_type": "code",
   "execution_count": 45,
   "id": "7fcd4cfb",
   "metadata": {},
   "outputs": [
    {
     "name": "stdout",
     "output_type": "stream",
     "text": [
      "[0.00025558]\n",
      "2.0820572529674304\n"
     ]
    }
   ],
   "source": [
    "#The slope indicates the steepness of a line and the intercept indicates the location where it intersects an axis.\n",
    "#The slope and the intercept define the linear relationship between two variables, and can be used to estimate an average rate of change.\n",
    "#The greater the magnitude of the slope, the steeper the line and the greater the rate of change which means one variable is dependent of the other. \n",
    "#Examining the specific parementers of our model\n",
    "# The slope\n",
    "# The y-intercept\n",
    "print(model.coef_)\n",
    "print(model.intercept_)"
   ]
  }
 ],
 "metadata": {
  "kernelspec": {
   "display_name": "mlenv",
   "language": "python",
   "name": "mlenv"
  },
  "language_info": {
   "codemirror_mode": {
    "name": "ipython",
    "version": 3
   },
   "file_extension": ".py",
   "mimetype": "text/x-python",
   "name": "python",
   "nbconvert_exporter": "python",
   "pygments_lexer": "ipython3",
   "version": "3.7.13"
  }
 },
 "nbformat": 4,
 "nbformat_minor": 5
}
